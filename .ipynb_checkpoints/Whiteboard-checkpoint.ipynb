{
 "cells": [
  {
   "cell_type": "markdown",
   "metadata": {},
   "source": [
    "Least Larger\n",
    "-------------\n",
    "Given an array of numbers and an index, return the index of the least number\n",
    "larger than the element at the given index, or -1 if there is no such index.\n",
    "Example 1:\n",
    "Input: ([4, 1, 3, 5, 6], 0 )\n",
    "Output: 3\n",
    "Example 2:\n",
    "Input: ([4, 1, 3, 5, 6], 4)\n",
    "Output: -1\n"
   ]
  },
  {
   "cell_type": "code",
   "execution_count": null,
   "metadata": {},
   "outputs": [],
   "source": []
  },
  {
   "cell_type": "markdown",
   "metadata": {},
   "source": [
    "Find Smaller Numbers\n",
    "--------------------\n",
    "Given the array nums, for each nums[i] find out how many numbers in the array are smaller than it. That is, for each nums[i] you have to count the number of valid j's such that j != i and nums[j] < nums[i].\n",
    "Return the answer in an array.\n",
    "Example 1:\n",
    "Input: nums = [8,1,2,2,3]\n",
    "Output: [4,0,1,1,3]\n",
    "Explanation:\n",
    "For nums[0]=8 there exist four smaller numbers than it (1, 2, 2 and 3).\n",
    "For nums[1]=1 does not exist any smaller number than it.\n",
    "For nums[2]=2 there exist one smaller number than it (1).\n",
    "For nums[3]=2 there exist one smaller number than it (1).\n",
    "For nums[4]=3 there exist three smaller numbers than it (1, 2 and 2).\n",
    "Example 2:\n",
    "Input: nums = [6,5,4,8]\n",
    "Output: [2,1,0,3]\n",
    "Example 3:\n",
    "Input: nums = [7,7,7,7]\n",
    "Output: [0,0,0,0]\n"
   ]
  },
  {
   "cell_type": "code",
   "execution_count": 4,
   "metadata": {},
   "outputs": [
    {
     "name": "stdout",
     "output_type": "stream",
     "text": [
      "[4, 0, 1, 1, 3]\n",
      "[2, 1, 0, 3]\n",
      "[0, 0, 0, 0]\n"
     ]
    }
   ],
   "source": [
    "def smallerNumbers(arr):\n",
    "    res = []\n",
    "    for i in range(len(arr)):\n",
    "        count = 0\n",
    "        for j in range(len(arr)):\n",
    "            if arr[i] > arr[j]:\n",
    "                count += 1\n",
    "        res.append(count)\n",
    "    return res\n",
    "        \n",
    "print(smallerNumbers([8,1,2,2,3]))\n",
    "print(smallerNumbers([6,5,4,8]))\n",
    "print(smallerNumbers([7,7,7,7]))"
   ]
  }
 ],
 "metadata": {
  "kernelspec": {
   "display_name": "Python 3",
   "language": "python",
   "name": "python3"
  },
  "language_info": {
   "codemirror_mode": {
    "name": "ipython",
    "version": 3
   },
   "file_extension": ".py",
   "mimetype": "text/x-python",
   "name": "python",
   "nbconvert_exporter": "python",
   "pygments_lexer": "ipython3",
   "version": "3.7.1"
  }
 },
 "nbformat": 4,
 "nbformat_minor": 2
}
